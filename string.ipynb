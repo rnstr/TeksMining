{
  "nbformat": 4,
  "nbformat_minor": 0,
  "metadata": {
    "colab": {
      "name": "string.ipynb",
      "provenance": [],
      "collapsed_sections": [],
      "authorship_tag": "ABX9TyPE3H4adwgIYnulWAxwgkdB",
      "include_colab_link": true
    },
    "kernelspec": {
      "name": "python3",
      "display_name": "Python 3"
    },
    "language_info": {
      "name": "python"
    }
  },
  "cells": [
    {
      "cell_type": "markdown",
      "metadata": {
        "id": "view-in-github",
        "colab_type": "text"
      },
      "source": [
        "<a href=\"https://colab.research.google.com/github/rnstr/TeksMining/blob/main/string.ipynb\" target=\"_parent\"><img src=\"https://colab.research.google.com/assets/colab-badge.svg\" alt=\"Open In Colab\"/></a>"
      ]
    },
    {
      "cell_type": "code",
      "execution_count": null,
      "metadata": {
        "colab": {
          "base_uri": "https://localhost:8080/"
        },
        "id": "DJI6lweGbgw2",
        "outputId": "c85bd5d0-91af-4862-e2f1-88df7eb95abd"
      },
      "outputs": [
        {
          "output_type": "stream",
          "name": "stdout",
          "text": [
            "hello google colab!\n"
          ]
        }
      ],
      "source": [
        "print(\"hello google colab!\")"
      ]
    },
    {
      "cell_type": "markdown",
      "source": [
        "# Posisi karakter dalam string\n",
        "---\n",
        "`nama_variabel[urutan indeks]`\n",
        "\n",
        "kata = \"buku klasifikasi teks\"\n",
        "\n",
        "kata[10] = f\n",
        "\n",
        "kata[:4] = buku\n",
        "\n",
        "kata[17:] = teks"
      ],
      "metadata": {
        "id": "Y1EsIAq6dN-R"
      }
    },
    {
      "cell_type": "code",
      "source": [
        "kata = \"buku klasifikasi teks\"\n",
        "print(\"kata[10] = \", kata[10])\n",
        "print(\"kata[:4] = \", kata[:4])\n",
        "print(\"kata[17:] = \", kata[17:])"
      ],
      "metadata": {
        "colab": {
          "base_uri": "https://localhost:8080/"
        },
        "id": "9S8Fx8mqdjmr",
        "outputId": "3806ba04-322f-4f13-b99d-da4dfabdde2c"
      },
      "execution_count": null,
      "outputs": [
        {
          "output_type": "stream",
          "name": "stdout",
          "text": [
            "kata[10] =  f\n",
            "kata[:4] =  buku\n",
            "kata[17:] =  teks\n"
          ]
        }
      ]
    },
    {
      "cell_type": "markdown",
      "source": [
        "# Menentukan panjang string\n",
        "---\n",
        "`len(teks)`"
      ],
      "metadata": {
        "id": "aOqwXclEgHTn"
      }
    },
    {
      "cell_type": "code",
      "source": [
        "kata = \"buku klasifikasi teks\"\n",
        "print(len(kata))"
      ],
      "metadata": {
        "colab": {
          "base_uri": "https://localhost:8080/"
        },
        "id": "dN-RGLELgQQh",
        "outputId": "5f20a4c3-a635-4a0f-de4a-7aaf33f6dd5d"
      },
      "execution_count": null,
      "outputs": [
        {
          "output_type": "stream",
          "name": "stdout",
          "text": [
            "21\n"
          ]
        }
      ]
    },
    {
      "cell_type": "markdown",
      "source": [
        "# Menggabungkan string\n",
        "---\n",
        "`string1+string2+string3`\n"
      ],
      "metadata": {
        "id": "QcHFkmS7e2_J"
      }
    },
    {
      "cell_type": "code",
      "source": [
        "kata1 = \"buku\"\n",
        "kata2 = \"klasifikasi\"\n",
        "kata3 = \"teks\"\n",
        "\n",
        "kataBaru = kata1+kata2+kata3\n",
        "kataBaruSpasi = kata1+ \" \" +kata2+ \" \" + kata3\n",
        "print(kataBaru)\n",
        "print(kataBaruSpasi)"
      ],
      "metadata": {
        "colab": {
          "base_uri": "https://localhost:8080/"
        },
        "id": "4jaIqrPNfCtl",
        "outputId": "fe921613-8c29-4d08-e8d6-ee19c7a31bf3"
      },
      "execution_count": null,
      "outputs": [
        {
          "output_type": "stream",
          "name": "stdout",
          "text": [
            "bukuklasifikasiteks\n",
            "buku klasifikasi teks\n"
          ]
        }
      ]
    },
    {
      "cell_type": "markdown",
      "source": [
        "# Menghitung kemunculan suatu karakter\n",
        "---\n",
        "`nama_variable.count(\"karakter yang ingin dihitung kemunculan karakternya\")`\n",
        "\n",
        "\n",
        "\n"
      ],
      "metadata": {
        "id": "zfHZtqeZgE5N"
      }
    },
    {
      "cell_type": "code",
      "source": [
        "kata = \"buku klasifikasi teks\"\n",
        "print(kata.count(\"si\"))"
      ],
      "metadata": {
        "colab": {
          "base_uri": "https://localhost:8080/"
        },
        "id": "gaBTXkm7g-eq",
        "outputId": "15ca6843-1a18-418a-d486-681f1ad0366a"
      },
      "execution_count": null,
      "outputs": [
        {
          "output_type": "stream",
          "name": "stdout",
          "text": [
            "2\n"
          ]
        }
      ]
    },
    {
      "cell_type": "markdown",
      "source": [
        "# Menentukan posisi dari suatu karakter \n",
        "---\n",
        "`nama_variable.find(\"karakter yang ingin diketahui posisinya\")`\n",
        "\n"
      ],
      "metadata": {
        "id": "nV94FikIkFTk"
      }
    },
    {
      "cell_type": "code",
      "source": [
        "kata = \"buku klasifikasi teks\"\n",
        "print(kata.find(\"klasi\"))\n",
        "print(kata.find(\"klaso\"))"
      ],
      "metadata": {
        "colab": {
          "base_uri": "https://localhost:8080/"
        },
        "id": "lnDvCCVmkSOh",
        "outputId": "64154ac6-e24f-443f-cedd-66938be399b3"
      },
      "execution_count": null,
      "outputs": [
        {
          "output_type": "stream",
          "name": "stdout",
          "text": [
            "5\n",
            "-1\n"
          ]
        }
      ]
    },
    {
      "cell_type": "markdown",
      "source": [
        "# LowerCase,  UpperCase, capitalize  dari suatu string \n",
        "---\n",
        "`nama_variable.lower()`\n",
        "\n",
        "`nama_variable.upper()`\n",
        "\n",
        "`nama_variable.capitalize()`"
      ],
      "metadata": {
        "id": "eZvmOOTpxQCd"
      }
    },
    {
      "cell_type": "code",
      "source": [
        "kata = \"buku klasifikasi teks\"\n",
        "print(kata.upper())\n",
        "\n",
        "kata = \"BUKU klasifikasi teks\"\n",
        "print(kata.lower())\n",
        "\n",
        "kata = \"BUKU klasifikasi teks\"\n",
        "print(kata.capitalize())"
      ],
      "metadata": {
        "colab": {
          "base_uri": "https://localhost:8080/"
        },
        "id": "Mt2Zh_zUxhGn",
        "outputId": "a3a73b2f-ce1f-4c7d-fe4e-1b6ab949baa7"
      },
      "execution_count": 2,
      "outputs": [
        {
          "output_type": "stream",
          "name": "stdout",
          "text": [
            "BUKU KLASIFIKASI TEKS\n",
            "buku klasifikasi teks\n",
            "Buku klasifikasi teks\n"
          ]
        }
      ]
    },
    {
      "cell_type": "markdown",
      "source": [
        "# Menghapus karakter dari suatu string \n",
        "---\n",
        "`nama_variable.lstrip(\"karatker)`\n",
        "\n",
        "`nama_variable.rstrip(\"karakter)`\n",
        "\n",
        "`nama_variable.strip(\"karakert)`"
      ],
      "metadata": {
        "id": "mLH6_Z-kysNO"
      }
    },
    {
      "cell_type": "code",
      "source": [
        "kata = \"buku klasifikasi buku\"\n",
        "print(kata.lstrip(\"buku\"))\n",
        "\n",
        "kata = \"buku klasifikasi buku\"\n",
        "print(kata.rstrip(\"buku\"))\n",
        "\n",
        "kata = \"buku klasifikasi buku\"\n",
        "print(kata.strip(\"buku\"))"
      ],
      "metadata": {
        "colab": {
          "base_uri": "https://localhost:8080/"
        },
        "id": "LWlTtkh3y2oI",
        "outputId": "f95840e1-4c61-4ba4-b04d-3aa9a7be073e"
      },
      "execution_count": 3,
      "outputs": [
        {
          "output_type": "stream",
          "name": "stdout",
          "text": [
            " klasifikasi buku\n",
            "buku klasifikasi \n",
            " klasifikasi \n"
          ]
        }
      ]
    }
  ]
}