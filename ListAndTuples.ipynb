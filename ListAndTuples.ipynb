{
  "nbformat": 4,
  "nbformat_minor": 0,
  "metadata": {
    "colab": {
      "name": "ListAndTuples.ipynb",
      "provenance": [],
      "authorship_tag": "ABX9TyOi/6qlt6C7AQA/3qiaCCI8",
      "include_colab_link": true
    },
    "kernelspec": {
      "name": "python3",
      "display_name": "Python 3"
    },
    "language_info": {
      "name": "python"
    }
  },
  "cells": [
    {
      "cell_type": "markdown",
      "metadata": {
        "id": "view-in-github",
        "colab_type": "text"
      },
      "source": [
        "<a href=\"https://colab.research.google.com/github/rnstr/TeksMining/blob/main/ListAndTuples.ipynb\" target=\"_parent\"><img src=\"https://colab.research.google.com/assets/colab-badge.svg\" alt=\"Open In Colab\"/></a>"
      ]
    },
    {
      "cell_type": "markdown",
      "source": [
        "# Tuple\n",
        "\n"
      ],
      "metadata": {
        "id": "8A44Dymm_Fwr"
      }
    },
    {
      "cell_type": "code",
      "source": [
        "t = (1,2,3,4,5,6,7)\n",
        "print(t)\n",
        "\n",
        "q = tuple(\"qwerty\")\n",
        "print(q)\n",
        "\n",
        "r = q[3]\n",
        "print(r)\n",
        "\n",
        "print(q*3)\n",
        "\n",
        "# q[3] = \"a\" --> will return error "
      ],
      "metadata": {
        "colab": {
          "base_uri": "https://localhost:8080/"
        },
        "id": "pxz8NTgR_Nfl",
        "outputId": "bdb99791-17ed-43bc-d318-15b08e004dbf"
      },
      "execution_count": 1,
      "outputs": [
        {
          "output_type": "stream",
          "name": "stdout",
          "text": [
            "(1, 2, 3, 4, 5, 6, 7)\n",
            "('q', 'w', 'e', 'r', 't', 'y')\n",
            "r\n",
            "('q', 'w', 'e', 'r', 't', 'y', 'q', 'w', 'e', 'r', 't', 'y', 'q', 'w', 'e', 'r', 't', 'y')\n"
          ]
        }
      ]
    },
    {
      "cell_type": "markdown",
      "source": [
        "# List"
      ],
      "metadata": {
        "id": "dyZz_WPCd0Iw"
      }
    },
    {
      "cell_type": "code",
      "source": [
        "list1 = [1,3,5,7,1]\n",
        "#list2 = list(\"abcdefghi\")\n",
        "print(list1)\n",
        "#print(list2)\n",
        "\n",
        "list1.append(7)\n",
        "print(list1)\n",
        "\n",
        "# insert between (indeks,value)\n",
        "print(\"insert between (indeks,value)\")\n",
        "list1.insert(1,5)\n",
        "print(list1)\n",
        "\n",
        "#hapus elemen berdasarkan indeks\n",
        "print(\"hapus elemen berdasarkan indeks\")\n",
        "list1.pop(1)\n",
        "print(list1)\n",
        "\n",
        "#hapus elemen pertama berdasarkan value\n",
        "print(\"hapus elemen pertama berdasarkan value\")\n",
        "list1.remove(1)\n",
        "print(list1)\n",
        "\n",
        "#sorting\n",
        "print(\"sorting acs\")\n",
        "list1.sort()\n",
        "print(list1)\n",
        "\n",
        "#sorting desc\n",
        "print(\"sorting desc\")\n",
        "list1.sort(reverse=True)\n",
        "print(list1)\n",
        "\n",
        "#slicing\n",
        "list2 = ['a', 'b', 'c', 'd', 'e', 'f']\n",
        "\n",
        "# mengambil elemen dengan indeks tertentu\n",
        "print(list2[:4])\n",
        "print(list2[2:])\n",
        "print(list2[2:4])\n",
        "\n"
      ],
      "metadata": {
        "id": "CLcGKDand23h",
        "outputId": "62d347f5-affc-48d7-f450-ddaa9633833d",
        "colab": {
          "base_uri": "https://localhost:8080/"
        }
      },
      "execution_count": 21,
      "outputs": [
        {
          "output_type": "stream",
          "name": "stdout",
          "text": [
            "[1, 3, 5, 7, 1]\n",
            "[1, 3, 5, 7, 1, 7]\n",
            "insert between (indeks,value)\n",
            "[1, 5, 3, 5, 7, 1, 7]\n",
            "hapus elemen berdasarkan indeks\n",
            "[1, 3, 5, 7, 1, 7]\n",
            "hapus elemen pertama berdasarkan value\n",
            "[3, 5, 7, 1, 7]\n",
            "sorting acs\n",
            "[1, 3, 5, 7, 7]\n",
            "sorting desc\n",
            "[7, 7, 5, 3, 1]\n",
            "['a', 'b', 'c', 'd']\n",
            "['c', 'd', 'e', 'f']\n",
            "['c', 'd']\n"
          ]
        }
      ]
    }
  ]
}