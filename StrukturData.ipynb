{
  "nbformat": 4,
  "nbformat_minor": 0,
  "metadata": {
    "colab": {
      "name": "StrukturData.ipynb",
      "provenance": [],
      "authorship_tag": "ABX9TyNAUmWZMEHaFjYdGKyCjNzr",
      "include_colab_link": true
    },
    "kernelspec": {
      "name": "python3",
      "display_name": "Python 3"
    },
    "language_info": {
      "name": "python"
    }
  },
  "cells": [
    {
      "cell_type": "markdown",
      "metadata": {
        "id": "view-in-github",
        "colab_type": "text"
      },
      "source": [
        "<a href=\"https://colab.research.google.com/github/rnstr/TeksMining/blob/main/StrukturData.ipynb\" target=\"_parent\"><img src=\"https://colab.research.google.com/assets/colab-badge.svg\" alt=\"Open In Colab\"/></a>"
      ]
    },
    {
      "cell_type": "markdown",
      "source": [
        "# Tuple\n",
        "\n"
      ],
      "metadata": {
        "id": "8A44Dymm_Fwr"
      }
    },
    {
      "cell_type": "code",
      "source": [
        "t = (1,2,3,4,5,6,7)\n",
        "print(t)\n",
        "\n",
        "q = tuple(\"qwerty\")\n",
        "print(q)\n",
        "\n",
        "r = q[3]\n",
        "print(r)\n",
        "\n",
        "print(q*3)\n",
        "\n",
        "# q[3] = \"a\" --> will return error \n",
        "\n",
        "## looping in tuple\n",
        "x = tuple(\"hello\")\n",
        "for a, b in enumerate(x) :\n",
        "  print(\"isi elemen \" + str (a) + \"adalah \" + str(b))"
      ],
      "metadata": {
        "colab": {
          "base_uri": "https://localhost:8080/"
        },
        "id": "pxz8NTgR_Nfl",
        "outputId": "a5ff526a-acac-4e63-b9bb-f79328c1cc34"
      },
      "execution_count": null,
      "outputs": [
        {
          "output_type": "stream",
          "name": "stdout",
          "text": [
            "(1, 2, 3, 4, 5, 6, 7)\n",
            "('q', 'w', 'e', 'r', 't', 'y')\n",
            "r\n",
            "('q', 'w', 'e', 'r', 't', 'y', 'q', 'w', 'e', 'r', 't', 'y', 'q', 'w', 'e', 'r', 't', 'y')\n",
            "isi elemen 0adalah h\n",
            "isi elemen 1adalah e\n",
            "isi elemen 2adalah l\n",
            "isi elemen 3adalah l\n",
            "isi elemen 4adalah o\n"
          ]
        }
      ]
    },
    {
      "cell_type": "markdown",
      "source": [
        "# List"
      ],
      "metadata": {
        "id": "i9qtIzCtATLD"
      }
    },
    {
      "cell_type": "code",
      "source": [
        "list1 = [1,3,5,7,1]\n",
        "#list2 = list(\"abcdefghi\")\n",
        "print(list1)\n",
        "#print(list2)\n",
        "\n",
        "list1.append(7)\n",
        "print(list1)\n",
        "\n",
        "# insert between (indeks,value)\n",
        "print(\"insert between (indeks,value)\")\n",
        "list1.insert(1,5)\n",
        "print(list1)\n",
        "\n",
        "#hapus elemen berdasarkan indeks\n",
        "print(\"hapus elemen berdasarkan indeks\")\n",
        "list1.pop(1)\n",
        "print(list1)\n",
        "\n",
        "#hapus elemen pertama berdasarkan value\n",
        "print(\"hapus elemen pertama berdasarkan value\")\n",
        "list1.remove(1)\n",
        "print(list1)\n",
        "\n",
        "#sorting\n",
        "print(\"sorting acs\")\n",
        "list1.sort()\n",
        "print(list1)\n",
        "\n",
        "#sorting desc\n",
        "print(\"sorting desc\")\n",
        "list1.sort(reverse=True)\n",
        "print(list1)\n",
        "\n",
        "#slicing\n",
        "list2 = ['a', 'b', 'c', 'd', 'e', 'f']\n",
        "\n",
        "# mengambil elemen dengan indeks tertentu\n",
        "print(list2[:4])\n",
        "print(list2[2:])\n",
        "print(list2[2:4])"
      ],
      "metadata": {
        "id": "-E6KH7W1AVHP"
      },
      "execution_count": null,
      "outputs": []
    },
    {
      "cell_type": "markdown",
      "source": [
        "#Dictionary"
      ],
      "metadata": {
        "id": "BczMNyDAk7b2"
      }
    },
    {
      "cell_type": "code",
      "source": [
        "pelajaran = {\"senin\" : \"matematika, Bahasa Indonesia\", \"selasa\" : \"fisika,biologi\", \"rabu\" : \"agama, kimia\"} \n",
        "\n",
        "print(pelajaran.items())"
      ],
      "metadata": {
        "id": "Oj7VDkN5k9Am"
      },
      "execution_count": null,
      "outputs": []
    }
  ]
}